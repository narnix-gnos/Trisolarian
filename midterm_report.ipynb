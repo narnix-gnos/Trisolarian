{
 "cells": [
  {
   "cell_type": "markdown",
   "metadata": {},
   "source": [
    "# Chronicle of the Trisolarians\n",
    "\n",
    "<img src=\"images/trisolarian_image1.jpeg\">\n",
    "\n",
    "This project is inspired by the science fiction \"The Three Body Problem\" by Liu Cixin.\n",
    "\n",
    "In the novel, the Trisolarians is a civilization on a planet in an unstable three-star system. As the dynamics of \n",
    "the chaotic 4-body system evolves, the planet's climate shifts between unpredictable periods of extreme cold and \n",
    "heat -- the so-called Chaotic Era. Moreover, should the planet pass too closely by a star, it may be torn apart by \n",
    "tidal force, or worse, completely engulfed by the star. In the book, trisolarian life and civilization are born, \n",
    "destroyed, and reborn for many times, before the eventual death of the planet.\n",
    "\n",
    "In this project, I create a simulation to output a chronicle of the trisolarian planet and its civilization (if \n",
    "there is any) given an initial condition for the unstable three-star system.\n",
    "\n",
    "This is a midterm report of the project.\n",
    "\n",
    "Xinran Song, 2022/01/30"
   ]
  },
  {
   "cell_type": "markdown",
   "metadata": {},
   "source": [
    "## 1. Four-Body Orbit Simulation\n",
    "First, we simulate the orbits of the planet and the 3 stars. Our outputs are (at all steps):\n",
    "\n",
    "    a) Position of the four bodies.\n",
    "    b) Energy of the system.\n",
    "    c) Distance of each of the 3 stars to planet."
   ]
  },
  {
   "cell_type": "markdown",
   "metadata": {},
   "source": [
    "### 1.1 Imports & Settings"
   ]
  },
  {
   "cell_type": "code",
   "execution_count": 1,
   "metadata": {},
   "outputs": [],
   "source": [
    "# Import libraries\n",
    "import numpy as np\n",
    "import matplotlib\n",
    "matplotlib.use('Agg')\n",
    "import matplotlib.pyplot as plt\n",
    "from matplotlib import animation\n",
    "from IPython.display import display, Image\n",
    "import time\n",
    "%matplotlib inline\n",
    "\n",
    "# Set common figure parameters\n",
    "newparams = {'figure.figsize': (14, 7), 'axes.grid': False,\n",
    "             'lines.markersize': 6, 'lines.linewidth': 2,\n",
    "             'font.size': 15, 'mathtext.fontset': 'stix',\n",
    "             'font.family': 'STIXGeneral'}\n",
    "plt.rcParams.update(newparams)"
   ]
  },
  {
   "cell_type": "markdown",
   "metadata": {},
   "source": [
    "### 1.2 Helper functions"
   ]
  },
  {
   "cell_type": "markdown",
   "metadata": {},
   "source": [
    "a) **RHS (t, y)**\n",
    "\n",
    "Calculates the RHS of the EoM.\n",
    "\n",
    "> Parameters:\n",
    "\n",
    "        t: dummy parameter to be called in ode solver.\n",
    "        \n",
    "        y: array. Vector of length 24 holding the current position and velocity of the three objects \n",
    "           in the following manner: \n",
    "           y = [x1, y1, z1, x2, y2, z2, x3, y3, z3, x4, y4, z4,\n",
    "                vx1, vy1, vz1, vx2, vy2, vz2, vx3, vy3, vz3, vx4, vy4, vz4].\n",
    "\n",
    "> Returns:\n",
    "\n",
    "        z: array. Vector of length 24 holding the derivative of the current position and velocity \n",
    "           (the velocity and acceleration) of the three object in the following manner:\n",
    "           z = [vx1, vy1, vz1, vx2, vy2, vz2, vx3, vy3, vz3, vx4, vy4, vz4,\n",
    "                ax1, ay1, az1, ax2, ay2, az2, ax3, ay3, az3, ax4, ay4, az4].\n"
   ]
  },
  {
   "cell_type": "code",
   "execution_count": 2,
   "metadata": {},
   "outputs": [],
   "source": [
    "def RHS(t, y):\n",
    "\n",
    "    z = np.zeros(24)\n",
    "    \n",
    "    z[:12] = [y[i] for i in range(12, 24)]\n",
    "    \n",
    "    r1, r2, r3, r4 = [y[i: i + 3] for i in range(0, 12, 3)]\n",
    "    \n",
    "    r21 = np.linalg.norm(r2 - r1)\n",
    "    r31 = np.linalg.norm(r3 - r1)\n",
    "    r41 = np.linalg.norm(r4 - r1)\n",
    "    r32 = np.linalg.norm(r3 - r2)\n",
    "    r42 = np.linalg.norm(r4 - r2)\n",
    "    r43 = np.linalg.norm(r4 - r3)\n",
    "    \n",
    "    a1 = G * (m2 * (r2 - r1) / r21 ** 3 + m3 * (r3 - r1) / r31 ** 3 + m4 * (r4 - r1) / r41 ** 3)\n",
    "    a2 = G * (m1 * (r1 - r2) / r21 ** 3 + m3 * (r3 - r2) / r32 ** 3 + m4 * (r4 - r2) / r42 ** 3)\n",
    "    a3 = G * (m1 * (r1 - r3) / r31 ** 3 + m2 * (r2 - r3) / r32 ** 3 + m4 * (r4 - r3) / r43 ** 3)\n",
    "    a4 = G * (m1 * (r1 - r4) / r41 ** 3 + m2 * (r2 - r4) / r42 ** 3 + m3 * (r3 - r4) / r43 ** 3)\n",
    "\n",
    "    z[12:15] = a1\n",
    "    z[15:18] = a2\n",
    "    z[18:21] = a3\n",
    "    z[21:24] = a4\n",
    "\n",
    "    return z"
   ]
  },
  {
   "cell_type": "markdown",
   "metadata": {},
   "source": [
    "b) **ode45 (f, t, y, h)**\n",
    "\n",
    "Calculate next step of an initial value problem (IVP) of an ODE with a RHS described\n",
    "    by the RHS function with an order 4 approx. and an order 5 approx.\n",
    "\n",
    "> Parameters:\n",
    "\n",
    "        f: function pointer. RHS of the ode.\n",
    "        t: float. Current time.\n",
    "        y: float. Current step (position).\n",
    "        h: float. Step-length.\n",
    "\n",
    "> Returns:\n",
    "\n",
    "        q: float. Order 2 approx.\n",
    "        w: float. Order 3 approx."
   ]
  },
  {
   "cell_type": "code",
   "execution_count": 3,
   "metadata": {},
   "outputs": [],
   "source": [
    "def ode45(f,t,y,h):\n",
    "    \n",
    "    s1 = f(t, y)\n",
    "    s2 = f(t + h / 4.0, y + h * s1 / 4.0)\n",
    "    s3 = f(t + 3.0 * h / 8.0, y + 3.0 * h * s1 / 32.0 + 9.0 * h * s2 / 32.0)\n",
    "    s4 = f(t + 12.0 * h / 13.0, y + 1932.0 * h * s1 / 2197.0 - 7200.0 * h * s2 / 2197.0 + 7296.0 * h * s3 / 2197.0)\n",
    "    s5 = f(t + h, y + 439.0 * h * s1 / 216.0 - 8.0 * h * s2 + 3680.0 * h * s3 / 513.0 - 845.0 * h * s4 / 4104.0)\n",
    "    s6 = f(t + h / 2.0, y - 8.0 * h * s1 / 27.0 + 2 * h * s2 - 3544.0 * h * s3 / 2565 + 1859.0 * h * s4 / 4104.0 - 11.0 * h * s5 / 40.0)\n",
    "    w = y + h * (25.0 * s1 / 216.0 + 1408.0 * s3 / 2565.0 + 2197.0 * s4 / 4104.0 - s5 / 5.0)\n",
    "    q = y + h * (16.0 * s1 / 135.0 + 6656.0 * s3 / 12825.0 + 28561.0 * s4 / 56430.0 - 9.0 * s5 / 50.0 + 2.0 * s6 / 55.0)\n",
    "    \n",
    "    return w, q"
   ]
  },
  {
   "cell_type": "markdown",
   "metadata": {},
   "source": [
    "c) **energy (z)**\n",
    "\n",
    "Calculate the mechanical energies of the four body system, we use this function to verify the accuracy of numerical calculations.\n",
    "\n",
    "> Parameters:\n",
    "\n",
    "        z: array. Vector of length 24 holding the current position and velocity of the three objects:\n",
    "           z = [vx1, vy1, vz1, vx2, vy2, vz2, vx3, vy3, vz3, vx4, vy4, vz4,\n",
    "                ax1, ay1, az1, ax2, ay2, az2, ax3, ay3, az3, ax4, ay4, az4]\n",
    "\n",
    "> Returns:\n",
    "\n",
    "        U: float. The potential energies of the system.\n",
    "        K: float. The kinetic energies of the system."
   ]
  },
  {
   "cell_type": "code",
   "execution_count": 4,
   "metadata": {},
   "outputs": [],
   "source": [
    "def energy(z):\n",
    "\n",
    "    r1, r2, r3, r4 = [z[i: i + 3] for i in range(0, 12, 3)]\n",
    "    \n",
    "    # Pairwise distance between objects\n",
    "    r21 = np.linalg.norm(r2 - r1)\n",
    "    r31 = np.linalg.norm(r3 - r1)\n",
    "    r41 = np.linalg.norm(r4 - r1)\n",
    "    r32 = np.linalg.norm(r3 - r2)\n",
    "    r42 = np.linalg.norm(r4 - r2)\n",
    "    r43 = np.linalg.norm(r4 - r3)\n",
    "    \n",
    "    # Calculate potential energies\n",
    "    # First object is \"free\", second object is moved from infinity to a distance r21 from the first object.\n",
    "    # Third object is affected gravitationally by both objects.\n",
    "    U1 = 0\n",
    "    U2 = -G * m1 * m2 / r21\n",
    "    U3 = -G * m1 * m3 / r31 - G * m3 * m2 / r32\n",
    "    U4 = -G * m4 * m1 / r41 - G * m4 * m2 / r42 - G * m4 * m3 / r43\n",
    "    U = U1 + U2 + U3 + U4\n",
    "    \n",
    "    # Calculate kinetic energies of the three objects\n",
    "    K1 = 0.5 * m1 * np.linalg.norm(z[12:15]) ** 2\n",
    "    K2 = 0.5 * m2 * np.linalg.norm(z[15:18]) ** 2\n",
    "    K3 = 0.5 * m3 * np.linalg.norm(z[18:21]) ** 2\n",
    "    K4 = 0.5 * m4 * np.linalg.norm(z[21:24]) ** 2\n",
    "    K = K1 + K2 + K3 + K4\n",
    "    \n",
    "    return U, K"
   ]
  },
  {
   "cell_type": "markdown",
   "metadata": {},
   "source": [
    "### 1.3 Plotting"
   ]
  },
  {
   "cell_type": "markdown",
   "metadata": {},
   "source": [
    "### 1.4 Animation"
   ]
  },
  {
   "cell_type": "markdown",
   "metadata": {},
   "source": [
    "### 1.5 Workflow"
   ]
  },
  {
   "cell_type": "markdown",
   "metadata": {},
   "source": [
    "### 1.6 Verification & Examples"
   ]
  }
 ],
 "metadata": {
  "interpreter": {
   "hash": "aee8b7b246df8f9039afb4144a1f6fd8d2ca17a180786b69acc140d282b71a49"
  },
  "kernelspec": {
   "display_name": "Python 3.8.1 64-bit",
   "language": "python",
   "name": "python3"
  },
  "language_info": {
   "codemirror_mode": {
    "name": "ipython",
    "version": 3
   },
   "file_extension": ".py",
   "mimetype": "text/x-python",
   "name": "python",
   "nbconvert_exporter": "python",
   "pygments_lexer": "ipython3",
   "version": "3.8.1"
  },
  "orig_nbformat": 4
 },
 "nbformat": 4,
 "nbformat_minor": 2
}
